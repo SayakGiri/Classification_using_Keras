{
  "nbformat": 4,
  "nbformat_minor": 0,
  "metadata": {
    "kernelspec": {
      "display_name": "Python 3",
      "language": "python",
      "name": "python3"
    },
    "language_info": {
      "codemirror_mode": {
        "name": "ipython",
        "version": 3
      },
      "file_extension": ".py",
      "mimetype": "text/x-python",
      "name": "python",
      "nbconvert_exporter": "python",
      "pygments_lexer": "ipython3",
      "version": "3.7.6"
    },
    "colab": {
      "name": "Classification_Breast Cancer.ipynb",
      "provenance": [],
      "collapsed_sections": []
    }
  },
  "cells": [
    {
      "cell_type": "markdown",
      "metadata": {
        "id": "oNXlIuWpqs00"
      },
      "source": [
        "# 90 input features, 2 hidden layers (5 nodes in each) and two output layers - 0:benign or 1:malignant"
      ]
    },
    {
      "cell_type": "code",
      "metadata": {
        "id": "zOlxov_Nqs04"
      },
      "source": [
        "import keras\n",
        "from keras.models import Sequential\n",
        "from keras.layers import Dense\n",
        "import numpy as np\n",
        "from tensorflow.keras.utils import to_categorical\n",
        "import pandas as pd\n",
        "from sklearn.model_selection import train_test_split\n",
        "import matplotlib.pyplot as plt\n",
        "%matplotlib inline \n",
        "import seaborn as sns"
      ],
      "execution_count": null,
      "outputs": []
    },
    {
      "cell_type": "code",
      "metadata": {
        "colab": {
          "base_uri": "https://localhost:8080/",
          "height": 224
        },
        "id": "mn2phs3zqs05",
        "outputId": "955b8d62-4a1d-4402-f3ca-ebfc40c49cd4"
      },
      "source": [
        "df = pd.read_csv('breast_cancer_weka_dataset.csv')\n",
        "df.head(5)"
      ],
      "execution_count": null,
      "outputs": [
        {
          "output_type": "execute_result",
          "data": {
            "text/html": [
              "<div>\n",
              "<style scoped>\n",
              "    .dataframe tbody tr th:only-of-type {\n",
              "        vertical-align: middle;\n",
              "    }\n",
              "\n",
              "    .dataframe tbody tr th {\n",
              "        vertical-align: top;\n",
              "    }\n",
              "\n",
              "    .dataframe thead th {\n",
              "        text-align: right;\n",
              "    }\n",
              "</style>\n",
              "<table border=\"1\" class=\"dataframe\">\n",
              "  <thead>\n",
              "    <tr style=\"text-align: right;\">\n",
              "      <th></th>\n",
              "      <th>clump_thickness</th>\n",
              "      <th>uniformity_of_cell_size</th>\n",
              "      <th>uniformity_of_cell_shape</th>\n",
              "      <th>marginal_adhesion</th>\n",
              "      <th>single_epithelial_cell_size</th>\n",
              "      <th>bare_nuclei</th>\n",
              "      <th>bland_chromatin</th>\n",
              "      <th>normal_nucleoli</th>\n",
              "      <th>mitosis</th>\n",
              "      <th>class</th>\n",
              "    </tr>\n",
              "  </thead>\n",
              "  <tbody>\n",
              "    <tr>\n",
              "      <th>0</th>\n",
              "      <td>5</td>\n",
              "      <td>1</td>\n",
              "      <td>1</td>\n",
              "      <td>1</td>\n",
              "      <td>2</td>\n",
              "      <td>1</td>\n",
              "      <td>3</td>\n",
              "      <td>1</td>\n",
              "      <td>1</td>\n",
              "      <td>2</td>\n",
              "    </tr>\n",
              "    <tr>\n",
              "      <th>1</th>\n",
              "      <td>5</td>\n",
              "      <td>4</td>\n",
              "      <td>4</td>\n",
              "      <td>5</td>\n",
              "      <td>7</td>\n",
              "      <td>10</td>\n",
              "      <td>3</td>\n",
              "      <td>2</td>\n",
              "      <td>1</td>\n",
              "      <td>2</td>\n",
              "    </tr>\n",
              "    <tr>\n",
              "      <th>2</th>\n",
              "      <td>3</td>\n",
              "      <td>1</td>\n",
              "      <td>1</td>\n",
              "      <td>1</td>\n",
              "      <td>2</td>\n",
              "      <td>2</td>\n",
              "      <td>3</td>\n",
              "      <td>1</td>\n",
              "      <td>1</td>\n",
              "      <td>2</td>\n",
              "    </tr>\n",
              "    <tr>\n",
              "      <th>3</th>\n",
              "      <td>6</td>\n",
              "      <td>8</td>\n",
              "      <td>8</td>\n",
              "      <td>1</td>\n",
              "      <td>3</td>\n",
              "      <td>4</td>\n",
              "      <td>3</td>\n",
              "      <td>7</td>\n",
              "      <td>1</td>\n",
              "      <td>2</td>\n",
              "    </tr>\n",
              "    <tr>\n",
              "      <th>4</th>\n",
              "      <td>4</td>\n",
              "      <td>1</td>\n",
              "      <td>1</td>\n",
              "      <td>3</td>\n",
              "      <td>2</td>\n",
              "      <td>1</td>\n",
              "      <td>3</td>\n",
              "      <td>1</td>\n",
              "      <td>1</td>\n",
              "      <td>2</td>\n",
              "    </tr>\n",
              "  </tbody>\n",
              "</table>\n",
              "</div>"
            ],
            "text/plain": [
              "   clump_thickness  uniformity_of_cell_size  ...  mitosis  class\n",
              "0                5                        1  ...        1      2\n",
              "1                5                        4  ...        1      2\n",
              "2                3                        1  ...        1      2\n",
              "3                6                        8  ...        1      2\n",
              "4                4                        1  ...        1      2\n",
              "\n",
              "[5 rows x 10 columns]"
            ]
          },
          "metadata": {
            "tags": []
          },
          "execution_count": 2
        }
      ]
    },
    {
      "cell_type": "code",
      "metadata": {
        "colab": {
          "base_uri": "https://localhost:8080/"
        },
        "id": "EpTKiwOyVzbF",
        "outputId": "fefd01c6-4267-4f88-e8a4-424757afb4ac"
      },
      "source": [
        "df.shape"
      ],
      "execution_count": null,
      "outputs": [
        {
          "output_type": "execute_result",
          "data": {
            "text/plain": [
              "(569, 10)"
            ]
          },
          "metadata": {
            "tags": []
          },
          "execution_count": 10
        }
      ]
    },
    {
      "cell_type": "code",
      "metadata": {
        "colab": {
          "base_uri": "https://localhost:8080/"
        },
        "id": "fTLMNL0GNPao",
        "outputId": "4d0aa41f-549f-4135-e44c-aab8b26b94f3"
      },
      "source": [
        "df.info()"
      ],
      "execution_count": null,
      "outputs": [
        {
          "output_type": "stream",
          "text": [
            "<class 'pandas.core.frame.DataFrame'>\n",
            "RangeIndex: 569 entries, 0 to 568\n",
            "Data columns (total 10 columns):\n",
            " #   Column                       Non-Null Count  Dtype\n",
            "---  ------                       --------------  -----\n",
            " 0   clump_thickness              569 non-null    int64\n",
            " 1   uniformity_of_cell_size      569 non-null    int64\n",
            " 2   uniformity_of_cell_shape     569 non-null    int64\n",
            " 3   marginal_adhesion            569 non-null    int64\n",
            " 4   single_epithelial_cell_size  569 non-null    int64\n",
            " 5   bare_nuclei                  569 non-null    int64\n",
            " 6   bland_chromatin              569 non-null    int64\n",
            " 7   normal_nucleoli              569 non-null    int64\n",
            " 8   mitosis                      569 non-null    int64\n",
            " 9   class                        569 non-null    int64\n",
            "dtypes: int64(10)\n",
            "memory usage: 44.6 KB\n"
          ],
          "name": "stdout"
        }
      ]
    },
    {
      "cell_type": "code",
      "metadata": {
        "id": "T-o1x_viqs06"
      },
      "source": [
        "# Separating the dataset into predictors and response\n",
        "\n",
        "x = df.drop('class',axis = 1)\n",
        "y = df['class']"
      ],
      "execution_count": null,
      "outputs": []
    },
    {
      "cell_type": "code",
      "metadata": {
        "colab": {
          "base_uri": "https://localhost:8080/"
        },
        "id": "Hn7d65QwMWfJ",
        "outputId": "6d49f92d-af29-4ebe-ee28-a21028e50eba"
      },
      "source": [
        "#Checking the number of negative cases and positive cases\n",
        "print(y[y==2].shape[0], y[y==4].shape[0])"
      ],
      "execution_count": null,
      "outputs": [
        {
          "output_type": "stream",
          "text": [
            "361 208\n"
          ],
          "name": "stdout"
        }
      ]
    },
    {
      "cell_type": "code",
      "metadata": {
        "colab": {
          "base_uri": "https://localhost:8080/",
          "height": 333
        },
        "id": "tOextNicMqf4",
        "outputId": "b08c7fee-2f98-4247-f043-aae3c0d56078"
      },
      "source": [
        "g = sns.countplot(df['class'])\n",
        "g.set_xticklabels(['benign','malignant'])\n",
        "plt.show()"
      ],
      "execution_count": null,
      "outputs": [
        {
          "output_type": "stream",
          "text": [
            "/usr/local/lib/python3.7/dist-packages/seaborn/_decorators.py:43: FutureWarning: Pass the following variable as a keyword arg: x. From version 0.12, the only valid positional argument will be `data`, and passing other arguments without an explicit keyword will result in an error or misinterpretation.\n",
            "  FutureWarning\n"
          ],
          "name": "stderr"
        },
        {
          "output_type": "display_data",
          "data": {
            "image/png": "[encoded data removed]",
            "text/plain": [
              "<Figure size 432x288 with 1 Axes>"
            ]
          },
          "metadata": {
            "tags": [],
            "needs_background": "light"
          }
        }
      ]
    },
    {
      "cell_type": "code",
      "metadata": {
        "id": "3ewaRqWkqs06"
      },
      "source": [
        "# Creating dummies for the predictor variables\n",
        "\n",
        "x = pd.get_dummies(x,columns = ['clump_thickness'])\n",
        "x = pd.get_dummies(x,columns = ['uniformity_of_cell_size'])\n",
        "x = pd.get_dummies(x,columns = ['uniformity_of_cell_shape'])\n",
        "x = pd.get_dummies(x,columns = ['marginal_adhesion'])\n",
        "x = pd.get_dummies(x,columns = ['single_epithelial_cell_size'])\n",
        "x = pd.get_dummies(x,columns = ['bare_nuclei'])\n",
        "x = pd.get_dummies(x,columns = ['bland_chromatin'])\n",
        "x = pd.get_dummies(x,columns = ['normal_nucleoli'])\n",
        "x = pd.get_dummies(x,columns = ['mitosis'])"
      ],
      "execution_count": null,
      "outputs": []
    },
    {
      "cell_type": "code",
      "metadata": {
        "id": "E1xskI3Hqs06"
      },
      "source": [
        "# we  modify the y so that the values 2 and 4 become 0 and 1 respectively\n",
        "\n",
        "for i in range(0,len(y)):\n",
        "    if y.iloc[i] == 2:\n",
        "        y.iloc[i,] = 0\n",
        "    else:\n",
        "        y.iloc[i,] = 1"
      ],
      "execution_count": null,
      "outputs": []
    },
    {
      "cell_type": "code",
      "metadata": {
        "id": "UfmKHQhxqs07"
      },
      "source": [
        "x_train,x_test,y_train,y_test = train_test_split(x,y,test_size=0.2)"
      ],
      "execution_count": null,
      "outputs": []
    },
    {
      "cell_type": "code",
      "metadata": {
        "id": "vLoNoyI3qs07"
      },
      "source": [
        "model = Sequential()"
      ],
      "execution_count": null,
      "outputs": []
    },
    {
      "cell_type": "code",
      "metadata": {
        "id": "YmQAMzbzqs08"
      },
      "source": [
        "# transform our target column into an array of binary numbers for classification\n",
        "\n",
        "y_train = to_categorical(y_train)"
      ],
      "execution_count": null,
      "outputs": []
    },
    {
      "cell_type": "code",
      "metadata": {
        "id": "dQnVOERSqs08"
      },
      "source": [
        "model.add(Dense(5,activation = 'relu',input_shape=(90,))) # first hidden layer(5 nodes), 90 = number of input features (number of columns in x)"
      ],
      "execution_count": null,
      "outputs": []
    },
    {
      "cell_type": "code",
      "metadata": {
        "id": "9EUN7M4lqs08"
      },
      "source": [
        "model.add(Dense(5,activation='relu')) # second hidden layer(5 nodes)"
      ],
      "execution_count": null,
      "outputs": []
    },
    {
      "cell_type": "code",
      "metadata": {
        "id": "H6kjLkaqqs09"
      },
      "source": [
        "# output layer - 5 neurons (y is 0 or 1) 0: benign, 1: malignant\n",
        "# we use softmax function so that the sum of the predicted values from all the neurons in the o/p layer sum upto 1\n",
        "model.add(Dense(2,activation='softmax')) "
      ],
      "execution_count": null,
      "outputs": []
    },
    {
      "cell_type": "code",
      "metadata": {
        "id": "Dr8_Cje5qs09"
      },
      "source": [
        "model.compile(optimizer='adam',loss='categorical_crossentropy',metrics=['accuracy'])"
      ],
      "execution_count": null,
      "outputs": []
    },
    {
      "cell_type": "code",
      "metadata": {
        "colab": {
          "base_uri": "https://localhost:8080/"
        },
        "id": "rkOOtqNVqs09",
        "outputId": "00827e73-5876-4a19-f1bf-8373a6d02584"
      },
      "source": [
        "model.fit(x_train,y_train,epochs=10)"
      ],
      "execution_count": null,
      "outputs": [
        {
          "output_type": "stream",
          "text": [
            "Epoch 1/10\n",
            "15/15 [==============================] - 2s 2ms/step - loss: 0.6608 - accuracy: 0.7291\n",
            "Epoch 2/10\n",
            "15/15 [==============================] - 0s 2ms/step - loss: 0.6169 - accuracy: 0.7602\n",
            "Epoch 3/10\n",
            "15/15 [==============================] - 0s 2ms/step - loss: 0.5711 - accuracy: 0.8154\n",
            "Epoch 4/10\n",
            "15/15 [==============================] - 0s 1ms/step - loss: 0.5205 - accuracy: 0.8144\n",
            "Epoch 5/10\n",
            "15/15 [==============================] - 0s 2ms/step - loss: 0.4778 - accuracy: 0.8410\n",
            "Epoch 6/10\n",
            "15/15 [==============================] - 0s 2ms/step - loss: 0.4117 - accuracy: 0.9158\n",
            "Epoch 7/10\n",
            "15/15 [==============================] - 0s 2ms/step - loss: 0.3686 - accuracy: 0.9227\n",
            "Epoch 8/10\n",
            "15/15 [==============================] - 0s 2ms/step - loss: 0.3155 - accuracy: 0.9401\n",
            "Epoch 9/10\n",
            "15/15 [==============================] - 0s 2ms/step - loss: 0.2649 - accuracy: 0.9447\n",
            "Epoch 10/10\n",
            "15/15 [==============================] - 0s 2ms/step - loss: 0.2082 - accuracy: 0.9595\n"
          ],
          "name": "stdout"
        },
        {
          "output_type": "execute_result",
          "data": {
            "text/plain": [
              "<keras.callbacks.History at 0x7f1531271810>"
            ]
          },
          "metadata": {
            "tags": []
          },
          "execution_count": 33
        }
      ]
    },
    {
      "cell_type": "code",
      "metadata": {
        "id": "mqDDjjf3qs0_"
      },
      "source": [
        "pred = model.predict(x_test)"
      ],
      "execution_count": null,
      "outputs": []
    },
    {
      "cell_type": "code",
      "metadata": {
        "colab": {
          "base_uri": "https://localhost:8080/"
        },
        "id": "HeD6YH1NxVvR",
        "outputId": "ad7a464c-58fa-41dd-cfe2-4b6a3319787e"
      },
      "source": [
        "pred"
      ],
      "execution_count": null,
      "outputs": [
        {
          "output_type": "execute_result",
          "data": {
            "text/plain": [
              "array([[0.93689245, 0.06310751],\n",
              "       [0.5843113 , 0.41568872],\n",
              "       [0.93342173, 0.06657825],\n",
              "       [0.8325226 , 0.16747746],\n",
              "       [0.92566067, 0.07433937],\n",
              "       [0.20341164, 0.7965883 ],\n",
              "       [0.10172921, 0.8982708 ],\n",
              "       [0.9168886 , 0.08311142],\n",
              "       [0.88543093, 0.11456909],\n",
              "       [0.4229178 , 0.5770822 ],\n",
              "       [0.12551048, 0.8744895 ],\n",
              "       [0.93404335, 0.06595662],\n",
              "       [0.16405384, 0.8359462 ],\n",
              "       [0.8804667 , 0.11953326],\n",
              "       [0.93404335, 0.06595662],\n",
              "       [0.8693542 , 0.13064581],\n",
              "       [0.10649159, 0.8935084 ],\n",
              "       [0.93689245, 0.06310751],\n",
              "       [0.9394482 , 0.06055187],\n",
              "       [0.8642137 , 0.13578628],\n",
              "       [0.12868899, 0.871311  ],\n",
              "       [0.15185378, 0.8481462 ],\n",
              "       [0.8438179 , 0.15618213],\n",
              "       [0.8939005 , 0.10609947],\n",
              "       [0.32876602, 0.67123395],\n",
              "       [0.20239967, 0.79760027],\n",
              "       [0.9394482 , 0.06055187],\n",
              "       [0.09618886, 0.9038111 ],\n",
              "       [0.9168886 , 0.08311142],\n",
              "       [0.9362709 , 0.06372907],\n",
              "       [0.9158573 , 0.08414271],\n",
              "       [0.8896468 , 0.11035323],\n",
              "       [0.92566067, 0.07433937],\n",
              "       [0.9168886 , 0.08311142],\n",
              "       [0.92545265, 0.07454739],\n",
              "       [0.945191  , 0.05480899],\n",
              "       [0.93404335, 0.06595662],\n",
              "       [0.92566067, 0.07433937],\n",
              "       [0.1547529 , 0.84524715],\n",
              "       [0.09381606, 0.9061839 ],\n",
              "       [0.8975319 , 0.1024681 ],\n",
              "       [0.92934465, 0.07065536],\n",
              "       [0.92566067, 0.07433937],\n",
              "       [0.9420783 , 0.05792176],\n",
              "       [0.9341478 , 0.06585217],\n",
              "       [0.9362709 , 0.06372907],\n",
              "       [0.21555832, 0.78444165],\n",
              "       [0.13590151, 0.86409855],\n",
              "       [0.08575451, 0.9142455 ],\n",
              "       [0.14245452, 0.8575455 ],\n",
              "       [0.86804885, 0.13195118],\n",
              "       [0.72848606, 0.27151394],\n",
              "       [0.90849674, 0.09150327],\n",
              "       [0.92589146, 0.07410859],\n",
              "       [0.16054069, 0.83945936],\n",
              "       [0.9168886 , 0.08311142],\n",
              "       [0.94098514, 0.05901489],\n",
              "       [0.16664423, 0.8333557 ],\n",
              "       [0.10418662, 0.8958134 ],\n",
              "       [0.30882528, 0.69117475],\n",
              "       [0.9261817 , 0.07381837],\n",
              "       [0.44743744, 0.55256253],\n",
              "       [0.93689245, 0.06310751],\n",
              "       [0.94192713, 0.05807283],\n",
              "       [0.3280749 , 0.6719252 ],\n",
              "       [0.912144  , 0.08785595],\n",
              "       [0.92934465, 0.07065536],\n",
              "       [0.94192713, 0.05807283],\n",
              "       [0.9177586 , 0.08224144],\n",
              "       [0.16186072, 0.83813936],\n",
              "       [0.46204638, 0.5379536 ],\n",
              "       [0.9394482 , 0.06055187],\n",
              "       [0.87917244, 0.12082755],\n",
              "       [0.9192451 , 0.08075494],\n",
              "       [0.2271224 , 0.77287763],\n",
              "       [0.92566067, 0.07433937],\n",
              "       [0.36043468, 0.63956535],\n",
              "       [0.8703497 , 0.12965031],\n",
              "       [0.94192713, 0.05807283],\n",
              "       [0.9459455 , 0.05405452],\n",
              "       [0.18833904, 0.811661  ],\n",
              "       [0.34805816, 0.6519418 ],\n",
              "       [0.93689245, 0.06310751],\n",
              "       [0.92566067, 0.07433937],\n",
              "       [0.92566067, 0.07433937],\n",
              "       [0.93689245, 0.06310751],\n",
              "       [0.10098567, 0.8990143 ],\n",
              "       [0.8808845 , 0.11911549],\n",
              "       [0.91406345, 0.0859366 ],\n",
              "       [0.8994199 , 0.1005801 ],\n",
              "       [0.22448187, 0.7755181 ],\n",
              "       [0.93689245, 0.06310751],\n",
              "       [0.16915235, 0.8308476 ],\n",
              "       [0.21756704, 0.782433  ],\n",
              "       [0.16731511, 0.8326849 ],\n",
              "       [0.9029132 , 0.09708685],\n",
              "       [0.8521652 , 0.14783475],\n",
              "       [0.9394482 , 0.06055187],\n",
              "       [0.9394482 , 0.06055187],\n",
              "       [0.84937084, 0.15062918],\n",
              "       [0.9197749 , 0.08022515],\n",
              "       [0.93404335, 0.06595662],\n",
              "       [0.92566067, 0.07433937],\n",
              "       [0.6307985 , 0.36920145],\n",
              "       [0.9405249 , 0.05947519],\n",
              "       [0.20139217, 0.7986078 ],\n",
              "       [0.80755615, 0.19244388],\n",
              "       [0.8675847 , 0.13241532],\n",
              "       [0.3599476 , 0.64005244],\n",
              "       [0.9381682 , 0.06183174],\n",
              "       [0.22495537, 0.7750446 ],\n",
              "       [0.8970814 , 0.10291865],\n",
              "       [0.15962295, 0.84037703],\n",
              "       [0.9404153 , 0.05958474]], dtype=float32)"
            ]
          },
          "metadata": {
            "tags": []
          },
          "execution_count": 39
        }
      ]
    },
    {
      "cell_type": "code",
      "metadata": {
        "id": "Vgret6Duqs1A"
      },
      "source": [
        "# For each data-point, the two probabilities should sum to 1 and the higher the probability, the more confident is the\n",
        "# algorithm that a datapoint belongs to the respective class."
      ],
      "execution_count": null,
      "outputs": []
    },
    {
      "cell_type": "code",
      "metadata": {
        "id": "_Erys63cqs1A",
        "outputId": "30574269-c777-4757-d11e-0e441612680c"
      },
      "source": [
        "y_test"
      ],
      "execution_count": null,
      "outputs": [
        {
          "output_type": "execute_result",
          "data": {
            "text/plain": [
              "175    4\n",
              "369    2\n",
              "153    2\n",
              "270    4\n",
              "94     2\n",
              "      ..\n",
              "173    4\n",
              "530    4\n",
              "258    2\n",
              "111    4\n",
              "484    2\n",
              "Name: class, Length: 114, dtype: int64"
            ]
          },
          "metadata": {
            "tags": []
          },
          "execution_count": 67
        }
      ]
    },
    {
      "cell_type": "markdown",
      "metadata": {
        "id": "6tOkrCS1GZZS"
      },
      "source": [
        "Random Forest classifier"
      ]
    },
    {
      "cell_type": "code",
      "metadata": {
        "id": "EQ83bDieGRvz"
      },
      "source": [
        "from sklearn.model_selection import train_test_split\n",
        "  \n",
        "# split into 70:30 ratio\n",
        "X_train_rf, X_test_rf, Y_train_rf, Y_test_rf = train_test_split(x, y, test_size = 0.3, random_state = 0)"
      ],
      "execution_count": null,
      "outputs": []
    },
    {
      "cell_type": "code",
      "metadata": {
        "colab": {
          "base_uri": "https://localhost:8080/"
        },
        "id": "V9NAoA4dGm_i",
        "outputId": "53cec6e1-274f-4a0e-a791-219ee251efb9"
      },
      "source": [
        "from sklearn.metrics import confusion_matrix, classification_report\n",
        "from sklearn.ensemble import RandomForestClassifier\n",
        "clf = RandomForestClassifier()\n",
        "\n",
        "clf.fit(X_train_rf,Y_train_rf)\n",
        "\n",
        "Y_pred_rf = clf.predict(X_test_rf)\n",
        "print(classification_report(Y_test_rf, Y_pred_rf))"
      ],
      "execution_count": null,
      "outputs": [
        {
          "output_type": "stream",
          "text": [
            "              precision    recall  f1-score   support\n",
            "\n",
            "           2       0.96      0.96      0.96       102\n",
            "           4       0.94      0.94      0.94        69\n",
            "\n",
            "    accuracy                           0.95       171\n",
            "   macro avg       0.95      0.95      0.95       171\n",
            "weighted avg       0.95      0.95      0.95       171\n",
            "\n"
          ],
          "name": "stdout"
        }
      ]
    },
    {
      "cell_type": "code",
      "metadata": {
        "colab": {
          "base_uri": "https://localhost:8080/"
        },
        "id": "jvlEVszA0A74",
        "outputId": "2cbcd6c5-f751-46e8-970b-e0f68586a1bd"
      },
      "source": [
        "from sklearn.metrics import confusion_matrix\n",
        "confusion_matrix(Y_test_rf,Y_pred_rf)"
      ],
      "execution_count": null,
      "outputs": [
        {
          "output_type": "execute_result",
          "data": {
            "text/plain": [
              "array([[98,  4],\n",
              "       [ 4, 65]])"
            ]
          },
          "metadata": {
            "tags": []
          },
          "execution_count": 11
        }
      ]
    },
    {
      "cell_type": "markdown",
      "metadata": {
        "id": "i_PDY5-H0l3J"
      },
      "source": [
        "TN = 98, FP = 4, FN = 4, TP = 65"
      ]
    },
    {
      "cell_type": "code",
      "metadata": {
        "colab": {
          "base_uri": "https://localhost:8080/"
        },
        "id": "D1d6Fmeh0kEx",
        "outputId": "7a26a62d-8ceb-4b59-da9a-449d0103e918"
      },
      "source": [
        "print(\"Recall = \", 65/(4+65) )"
      ],
      "execution_count": null,
      "outputs": [
        {
          "output_type": "stream",
          "text": [
            "Recall =  0.9420289855072463\n"
          ],
          "name": "stdout"
        }
      ]
    },
    {
      "cell_type": "code",
      "metadata": {
        "colab": {
          "base_uri": "https://localhost:8080/"
        },
        "id": "NbBep7lR1RZI",
        "outputId": "7e7b2d22-e79a-468d-ccbc-f417eff8ff2f"
      },
      "source": [
        "print(\"Recall = \", 65/(4+65) )"
      ],
      "execution_count": null,
      "outputs": [
        {
          "output_type": "stream",
          "text": [
            "Recall =  0.9420289855072463\n"
          ],
          "name": "stdout"
        }
      ]
    },
    {
      "cell_type": "code",
      "metadata": {
        "colab": {
          "base_uri": "https://localhost:8080/"
        },
        "id": "BvsJFFJ31ZT_",
        "outputId": "6240825f-8cdb-45f2-b15e-c5b381720ecb"
      },
      "source": [
        "print(\"f1 score = \", 2*0.94*0.94/(0.94+0.94))"
      ],
      "execution_count": null,
      "outputs": [
        {
          "output_type": "stream",
          "text": [
            "f1 score =  0.94\n"
          ],
          "name": "stdout"
        }
      ]
    }
  ]
}